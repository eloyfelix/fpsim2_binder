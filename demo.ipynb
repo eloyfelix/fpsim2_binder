{
 "cells": [
  {
   "cell_type": "markdown",
   "metadata": {},
   "source": [
    "# FPSim2 demo\n",
    "\n",
    "- FPSim2 is an easy to use, simple and small Python library to run fast similarity searches.\n",
    "- Heavy processing is implemented in C++ calling SIMD instructions and taking advantadge of [pybind11](https://pybind11.readthedocs.io/en/stable/)'s awesome integration with Numpy. \n",
    "- GIL is released most of the time, so multiple threads can be used for speeding up a single query.\n",
    "- Fingerprints are stored in a PyTables table.\n",
    "- Provides 2 working modes:\n",
    "  - In memory search: Fastest\n",
    "  - On disk search: In case the dataset doesn't fit in memory.\n",
    "- It has one clear **limitation**: Only integer ids can be used to identify molecules. This library was designed to work in backends which must have integer ids for it's data. We are using ChEMBL's **molregno** as id in this example.\n",
    "\n",
    "ChEMBL25 is only 1.87 million molecules. Advantadge in using multiple threads in a single query is more obviously seen on bigger datasets. \n",
    "\n",
    "It's been already tested against Unichem (>150 million compounds) and GDB13 (>970 million compounds).\n",
    "\n",
    "**Notice that Binder performance is not very good.**"
   ]
  },
  {
   "cell_type": "markdown",
   "metadata": {},
   "source": [
    "## Imports"
   ]
  },
  {
   "cell_type": "code",
   "execution_count": 1,
   "metadata": {},
   "outputs": [],
   "source": [
    "from FPSim2 import FPSim2Engine\n"
   ]
  },
  {
   "cell_type": "markdown",
   "metadata": {},
   "source": [
    "## Load fp db and show fp parameters"
   ]
  },
  {
   "cell_type": "code",
   "execution_count": 2,
   "metadata": {
    "tags": []
   },
   "outputs": [
    {
     "output_type": "stream",
     "name": "stdout",
     "text": "FP type:  Morgan\nFP parameters:  {'radius': 2, 'nBits': 2048}\nRDKit version:  2019.03.2\nNum fps: 1870451\n"
    }
   ],
   "source": [
    "fp_filename = 'chembl_25.h5'\n",
    "\n",
    "fpe = FPSim2Engine(fp_filename)\n",
    "\n",
    "print('FP type: ', fpe.fp_type)\n",
    "print('FP parameters: ', fpe.fp_params)\n",
    "print('RDKit version: ', fpe.rdkit_ver)\n",
    "print('Num fps:', fpe.fps.shape[0])"
   ]
  },
  {
   "cell_type": "markdown",
   "metadata": {},
   "source": [
    "## Run a similarity (Tanimoto) search\n",
    "In small databases like ChEMBL an important portion of the search time is spent processing the query molecule."
   ]
  },
  {
   "cell_type": "code",
   "execution_count": 3,
   "metadata": {},
   "outputs": [],
   "source": [
    "query = 'CC(=O)Oc1ccccc1C(=O)O'\n",
    "results = fpe.similarity(query, 0.7, n_workers=1)"
   ]
  },
  {
   "cell_type": "markdown",
   "metadata": {},
   "source": [
    "## Results in a nice structured numpy array"
   ]
  },
  {
   "cell_type": "code",
   "execution_count": 4,
   "metadata": {
    "tags": []
   },
   "outputs": [
    {
     "output_type": "stream",
     "name": "stdout",
     "text": "(4,)\n"
    },
    {
     "output_type": "execute_result",
     "data": {
      "text/plain": "array([(   1280, 1.        ), (2096455, 0.8888889 ),\n       ( 271022, 0.85714287), ( 875057, 0.7       )],\n      dtype={'names':['mol_id','coeff'], 'formats':['<u4','<f4'], 'offsets':[4,8], 'itemsize':12})"
     },
     "metadata": {},
     "execution_count": 4
    }
   ],
   "source": [
    "print(results.shape)\n",
    "results"
   ]
  },
  {
   "cell_type": "markdown",
   "metadata": {},
   "source": [
    "## Time it!"
   ]
  },
  {
   "cell_type": "code",
   "execution_count": 5,
   "metadata": {
    "tags": []
   },
   "outputs": [
    {
     "output_type": "stream",
     "name": "stdout",
     "text": "8.81 ms ± 38.2 µs per loop (mean ± std. dev. of 7 runs, 100 loops each)\n"
    }
   ],
   "source": [
    "%%timeit\n",
    "results = fpe.similarity(query, 0.7, n_workers=1)"
   ]
  },
  {
   "cell_type": "markdown",
   "metadata": {},
   "source": [
    "## it is also possible to run Tversky asymmetric searches\n",
    "\n",
    "Tversky is a generalisation of Tanimoto and Dice coefficients so by setting a and b with the following values:\n",
    " - a=1, b=1: its equivalent (but slower) to fpe.similarity function (Tanimoto)\n",
    " - a=1, b=0: its equivalent (but slower) to fpe.substructure function (substructure screenout)\n",
    " - a=0.5, b=0.5 will calculate the Sørensen–Dice coefficient"
   ]
  },
  {
   "cell_type": "code",
   "execution_count": 6,
   "metadata": {},
   "outputs": [],
   "source": [
    "results = fpe.tversky(query, 0.7, 0.5, 0.5, n_workers=1)"
   ]
  },
  {
   "cell_type": "code",
   "execution_count": 7,
   "metadata": {
    "tags": []
   },
   "outputs": [
    {
     "output_type": "stream",
     "name": "stdout",
     "text": "(42,)\n"
    },
    {
     "output_type": "execute_result",
     "data": {
      "text/plain": "array([(   1280, 1.        ), (2096455, 0.9411765 ),\n       ( 271022, 0.9230769 ), ( 875057, 0.8235294 ),\n       ( 271023, 0.8076923 ), ( 954218, 0.8       ),\n       ( 271730, 0.8       ), ( 287927, 0.7916667 ),\n       ( 289908, 0.78431374), ( 321840, 0.7826087 ),\n       (1737174, 0.7777778 ), (1218400, 0.7777778 ),\n       ( 642553, 0.7755102 ), ( 798870, 0.7755102 ),\n       (2079586, 0.7692308 ), (1478529, 0.76      ),\n       (2096376, 0.754717  ), (1377367, 0.754717  ),\n       (1078517, 0.75      ), (1499576, 0.75      ),\n       ( 255532, 0.74509805), ( 454071, 0.74509805),\n       ( 782905, 0.74509805), ( 271500, 0.7407407 ),\n       ( 289408, 0.73913044), (2079585, 0.72727275),\n       ( 274086, 0.72727275), ( 783518, 0.72727275),\n       ( 876990, 0.7234042 ), (1449653, 0.7234042 ),\n       ( 746307, 0.72      ), (1377174, 0.71428573),\n       ( 271540, 0.71428573), ( 270959, 0.71428573),\n       (1962736, 0.7118644 ), ( 704412, 0.7083333 ),\n       ( 696522, 0.7058824 ), (1163322, 0.7017544 ),\n       (1737685, 0.7017544 ), ( 271539, 0.7017544 ),\n       ( 271538, 0.7017544 ), ( 540538, 0.7017544 )],\n      dtype={'names':['mol_id','coeff'], 'formats':['<u4','<f4'], 'offsets':[4,8], 'itemsize':12})"
     },
     "metadata": {},
     "execution_count": 7
    }
   ],
   "source": [
    "print(results.shape)\n",
    "results"
   ]
  },
  {
   "cell_type": "markdown",
   "metadata": {},
   "source": [
    "## On disk search\n",
    "\n",
    "If your dataset doesn't fit in memory or you're dealing with huge datasets, it's still possible to run searches."
   ]
  },
  {
   "cell_type": "code",
   "execution_count": 8,
   "metadata": {},
   "outputs": [],
   "source": [
    "query = 'CC(=O)Oc1ccccc1C(=O)O'\n",
    "\n",
    "fpe = FPSim2Engine(fp_filename, in_memory_fps=False)\n",
    "results = fpe.on_disk_similarity(query, 0.7, chunk_size=100000, n_workers=1)"
   ]
  },
  {
   "cell_type": "code",
   "execution_count": 9,
   "metadata": {
    "tags": []
   },
   "outputs": [
    {
     "output_type": "stream",
     "name": "stdout",
     "text": "(4,)\n"
    },
    {
     "output_type": "execute_result",
     "data": {
      "text/plain": "array([(   1280, 1.        ), (2096455, 0.8888889 ),\n       ( 271022, 0.85714287), ( 875057, 0.7       )],\n      dtype={'names':['mol_id','coeff'], 'formats':['<u4','<f4'], 'offsets':[4,8], 'itemsize':12})"
     },
     "metadata": {},
     "execution_count": 9
    }
   ],
   "source": [
    "print(results.shape)\n",
    "results"
   ]
  },
  {
   "cell_type": "markdown",
   "metadata": {},
   "source": [
    "## Time it!"
   ]
  },
  {
   "cell_type": "code",
   "execution_count": 10,
   "metadata": {
    "tags": []
   },
   "outputs": [
    {
     "output_type": "stream",
     "name": "stdout",
     "text": "164 ms ± 3.04 ms per loop (mean ± std. dev. of 7 runs, 10 loops each)\n"
    }
   ],
   "source": [
    "%%timeit\n",
    "results = fpe.on_disk_similarity(query, 0.7, chunk_size=100000, n_workers=1)"
   ]
  },
  {
   "cell_type": "markdown",
   "metadata": {},
   "source": [
    "## Substructure search\n",
    "\n",
    "FPSim2 can also run Tversky searches using fingerprints. Bear in mind this is NOT a full substructure search. Full substructure search might be implemented in the future.\n",
    "\n",
    "It is recommended to use RDKit PatternFingerprint.\n"
   ]
  },
  {
   "cell_type": "code",
   "execution_count": 11,
   "metadata": {
    "tags": []
   },
   "outputs": [
    {
     "output_type": "stream",
     "name": "stdout",
     "text": "FP type:  RDKPatternFingerprint\nFP parameters:  {'fpSize': 2048, 'atomCounts': [], 'setOnlyBits': None}\nRDKit version:  2019.03.2\nNum fps: 1870451\n"
    }
   ],
   "source": [
    "fp_filename = 'chembl_25_substructure.h5'\n",
    "\n",
    "fpe = FPSim2Engine(fp_filename)\n",
    "\n",
    "print('FP type: ', fpe.fp_type) \n",
    "print('FP parameters: ', fpe.fp_params)\n",
    "print('RDKit version: ', fpe.rdkit_ver)\n",
    "print('Num fps:', fpe.fps.shape[0])"
   ]
  },
  {
   "cell_type": "code",
   "execution_count": 12,
   "metadata": {},
   "outputs": [],
   "source": [
    "query = 'CC(=O)Oc1ccccc1C(=O)O'\n",
    "results = fpe.substructure(query, n_workers=1)"
   ]
  },
  {
   "cell_type": "code",
   "execution_count": 13,
   "metadata": {
    "tags": []
   },
   "outputs": [
    {
     "output_type": "stream",
     "name": "stdout",
     "text": "(7800,)\n"
    },
    {
     "output_type": "execute_result",
     "data": {
      "text/plain": "array([   1280,  445942, 1476178, ...,  615450,  615448,  615451],\n      dtype=uint32)"
     },
     "metadata": {},
     "execution_count": 13
    }
   ],
   "source": [
    "print(results.shape)\n",
    "results"
   ]
  },
  {
   "cell_type": "markdown",
   "metadata": {},
   "source": [
    "# Time it!"
   ]
  },
  {
   "cell_type": "code",
   "execution_count": 14,
   "metadata": {
    "tags": []
   },
   "outputs": [
    {
     "output_type": "stream",
     "name": "stdout",
     "text": "78.8 ms ± 156 µs per loop (mean ± std. dev. of 7 runs, 10 loops each)\n"
    }
   ],
   "source": [
    "%%timeit\n",
    "results = fpe.substructure(query, n_workers=1)"
   ]
  },
  {
   "cell_type": "code",
   "execution_count": null,
   "metadata": {},
   "outputs": [],
   "source": []
  }
 ],
 "metadata": {
  "kernelspec": {
   "display_name": "Python 3",
   "language": "python",
   "name": "python3"
  },
  "language_info": {
   "codemirror_mode": {
    "name": "ipython",
    "version": 3
   },
   "file_extension": ".py",
   "mimetype": "text/x-python",
   "name": "python",
   "nbconvert_exporter": "python",
   "pygments_lexer": "ipython3",
   "version": "3.8.2-final"
  }
 },
 "nbformat": 4,
 "nbformat_minor": 2
}