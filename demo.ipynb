{
 "cells": [
  {
   "cell_type": "markdown",
   "metadata": {},
   "source": [
    "# FPSim2 demo\n",
    "\n",
    "- FPSim2 is an easy to use, simple and small 99% Python library to run fast similarity searches.\n",
    "- Heavy processing is implemented in Cython calling SIMD instructions and taking advantadge of it's awesome integration with Numpy. \n",
    "- GIL is released most of the time in Cython, so multiple threads can be used for speeding up a single query.\n",
    "- Fingerprints are stored in a PyTables table.\n",
    "- Provides 2 working modes:\n",
    "  - In memory search: Faster\n",
    "  - On disk search: In case the dataset doesn't fit in memory.\n",
    "- It has one clear **limitation**: Only integer ids can be used to identify molecules. This library was designed to work in backends which must have integer ids for it's data. We are using **molregno** as id in this example.\n",
    "\n",
    "ChEMBL24 is only 1.8 million molecules. Advantadge in using multiple threads in a single query is more obviously seen on bigger datasets. \n",
    "\n",
    "It's been tested with Unichem (>150 million compounds) and GDB13 (>970 million compounds).\n",
    "\n",
    "**Binder performance is awful even compared to a 4 years old laptop, try the docker image if you want to see nicer performance.**"
   ]
  },
  {
   "cell_type": "markdown",
   "metadata": {},
   "source": [
    "## Imports"
   ]
  },
  {
   "cell_type": "code",
   "execution_count": 1,
   "metadata": {},
   "outputs": [],
   "source": [
    "from FPSim2 import FPSim2Engine\n"
   ]
  },
  {
   "cell_type": "markdown",
   "metadata": {},
   "source": [
    "## Load fp db and show fp parameters"
   ]
  },
  {
   "cell_type": "code",
   "execution_count": 2,
   "metadata": {},
   "outputs": [
    {
     "name": "stdout",
     "output_type": "stream",
     "text": [
      "FP type:  Morgan\n",
      "FP parameters:  {'radius': 2, 'nBits': 2048, 'useFeatures': False, 'useChirality': False, 'useBondTypes': True}\n",
      "RDKit version:  2018.03.4\n",
      "Num fps: 1820001\n"
     ]
    }
   ],
   "source": [
    "fp_filename = 'chembl_24.h5'\n",
    "\n",
    "fpe = FPSim2Engine(fp_filename)\n",
    "\n",
    "print('FP type: ', fpe.fp_type)\n",
    "print('FP parameters: ', fpe.fp_params)\n",
    "print('RDKit version: ', fpe.rdkit_ver)\n",
    "print('Num fps:', fpe.fps.fps.shape[0])"
   ]
  },
  {
   "cell_type": "markdown",
   "metadata": {},
   "source": [
    "## Run a search\n",
    "In small databases like ChEMBL an important portion of the search time is spent processing the query molecule."
   ]
  },
  {
   "cell_type": "code",
   "execution_count": 3,
   "metadata": {},
   "outputs": [
    {
     "name": "stdout",
     "output_type": "stream",
     "text": [
      "Warning, FPS were created with RDKit 2018.03.4, now using 2018.09.1\n",
      "CPU times: user 24 ms, sys: 4 ms, total: 28 ms\n",
      "Wall time: 25 ms\n"
     ]
    }
   ],
   "source": [
    "%%time\n",
    "query = 'CC(=O)Oc1ccccc1C(=O)O'\n",
    "\n",
    "results = fpe.similarity(query, 0.7, n_workers=1)"
   ]
  },
  {
   "cell_type": "markdown",
   "metadata": {},
   "source": [
    "## Results in a nice structured numpy array"
   ]
  },
  {
   "cell_type": "code",
   "execution_count": 4,
   "metadata": {},
   "outputs": [
    {
     "name": "stdout",
     "output_type": "stream",
     "text": [
      "(4,)\n"
     ]
    },
    {
     "data": {
      "text/plain": [
       "array([(   1280, 1.        ), (2096455, 0.8888889 ),\n",
       "       ( 271022, 0.85714287), ( 875057, 0.7       )],\n",
       "      dtype=[('mol_id', '<u4'), ('coeff', '<f4')])"
      ]
     },
     "execution_count": 4,
     "metadata": {},
     "output_type": "execute_result"
    }
   ],
   "source": [
    "print(results.shape)\n",
    "results"
   ]
  },
  {
   "cell_type": "markdown",
   "metadata": {},
   "source": [
    "## On disk search\n",
    "\n",
    "If your dataset doesn't fit in memory or you're dealing with huge datasets, it's still possible to run searches."
   ]
  },
  {
   "cell_type": "code",
   "execution_count": 5,
   "metadata": {},
   "outputs": [
    {
     "name": "stdout",
     "output_type": "stream",
     "text": [
      "Warning, FPS were created with RDKit 2018.03.4, now using 2018.09.1\n",
      "CPU times: user 16 ms, sys: 40 ms, total: 56 ms\n",
      "Wall time: 194 ms\n"
     ]
    }
   ],
   "source": [
    "%%time\n",
    "query = 'CC(=O)Oc1ccccc1C(=O)O'\n",
    "\n",
    "fpe = FPSim2Engine(fp_filename, in_memory_fps=False)\n",
    "results = fpe.on_disk_similarity(query, 0.7, chunk_size=100000, n_workers=2)\n"
   ]
  },
  {
   "cell_type": "code",
   "execution_count": 6,
   "metadata": {},
   "outputs": [
    {
     "name": "stdout",
     "output_type": "stream",
     "text": [
      "(4,)\n"
     ]
    },
    {
     "data": {
      "text/plain": [
       "array([(   1280, 1.        ), (2096455, 0.8888889 ),\n",
       "       ( 271022, 0.85714287), ( 875057, 0.7       )],\n",
       "      dtype=[('mol_id', '<u4'), ('coeff', '<f4')])"
      ]
     },
     "execution_count": 6,
     "metadata": {},
     "output_type": "execute_result"
    }
   ],
   "source": [
    "print(results.shape)\n",
    "results"
   ]
  },
  {
   "cell_type": "markdown",
   "metadata": {},
   "source": [
    "## Substructure search\n",
    "\n",
    "FPSim2 can also run Tversky searches using fingerprints. Bear in mind this is NOT a full substructure search. Full substructure search might be implemented in the future.\n",
    "\n",
    "It is recommended to use RDKit PatternFingerprint.\n"
   ]
  },
  {
   "cell_type": "code",
   "execution_count": 7,
   "metadata": {},
   "outputs": [
    {
     "name": "stdout",
     "output_type": "stream",
     "text": [
      "FP type:  RDKPatternFingerprint\n",
      "FP parameters:  {'fpSize': 2048, 'atomCounts': [], 'setOnlyBits': None}\n",
      "RDKit version:  2018.03.4\n",
      "Num fps: 1820001\n"
     ]
    }
   ],
   "source": [
    "fp_filename = 'chembl_24_substructure.h5'\n",
    "\n",
    "fpe = FPSim2Engine(fp_filename)\n",
    "\n",
    "print('FP type: ', fpe.fp_type) \n",
    "print('FP parameters: ', fpe.fp_params)\n",
    "print('RDKit version: ', fpe.rdkit_ver)\n",
    "print('Num fps:', fpe.fps.fps.shape[0])"
   ]
  },
  {
   "cell_type": "code",
   "execution_count": 8,
   "metadata": {},
   "outputs": [
    {
     "name": "stdout",
     "output_type": "stream",
     "text": [
      "Warning, FPS were created with RDKit 2018.03.4, now using 2018.09.1\n",
      "CPU times: user 164 ms, sys: 0 ns, total: 164 ms\n",
      "Wall time: 165 ms\n"
     ]
    }
   ],
   "source": [
    "%%time\n",
    "query = 'CC(=O)Oc1ccccc1C(=O)O'\n",
    "results = fpe.substructure(query, n_workers=1)\n"
   ]
  },
  {
   "cell_type": "code",
   "execution_count": 9,
   "metadata": {},
   "outputs": [
    {
     "name": "stdout",
     "output_type": "stream",
     "text": [
      "(7533,)\n"
     ]
    },
    {
     "data": {
      "text/plain": [
       "array([   1280,  445942, 1476178, ...,  615449,  615448,  615450],\n",
       "      dtype=uint32)"
      ]
     },
     "execution_count": 9,
     "metadata": {},
     "output_type": "execute_result"
    }
   ],
   "source": [
    "print(results.shape)\n",
    "results"
   ]
  },
  {
   "cell_type": "code",
   "execution_count": null,
   "metadata": {},
   "outputs": [],
   "source": []
  }
 ],
 "metadata": {
  "kernelspec": {
   "display_name": "Python 3",
   "language": "python",
   "name": "python3"
  },
  "language_info": {
   "codemirror_mode": {
    "name": "ipython",
    "version": 3
   },
   "file_extension": ".py",
   "mimetype": "text/x-python",
   "name": "python",
   "nbconvert_exporter": "python",
   "pygments_lexer": "ipython3",
   "version": "3.6.7"
  }
 },
 "nbformat": 4,
 "nbformat_minor": 2
}
