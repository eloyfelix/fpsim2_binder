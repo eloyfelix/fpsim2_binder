{
 "cells": [
  {
   "cell_type": "markdown",
   "metadata": {},
   "source": [
    "# FPSim2 demo\n",
    "\n",
    "- FPSim2 is an easy to use, simple and small 99% Python library to run fast similarity searches.\n",
    "- Heavy processing is implemented in Cython calling SIMD instructions and taking advantadge of it's awesome integration with Numpy. \n",
    "- GIL is released most of the time in Cython, so multiple threads can be used for speeding up a single query.\n",
    "- Fingerprints are stored using PyTables, which is also storing Numpy arrays.\n",
    "- Provides 2 working modes:\n",
    "  - In memory search: Faster\n",
    "  - On disk search: In case the dataset doesn't fit in memory.\n",
    "- It has one clear **limitation**: Only integer ids can be used to identify molecules. This library was designed to work in backends which must have integer ids for it's data. We are using molregno as id in this example.\n",
    "\n",
    "ChEMBL24 is only 1.8 million molecules. Advantadge of using multiple threads in a single query is more obviously seen when searching in bigger datasets. \n",
    "\n",
    "It's been tested with Unichem (>150 million compounds) and GDB13 (>970 million compounds).\n",
    "\n",
    "**Binder performance is awful even compared to a 4 years old laptop, try the docker image if you want to see nicer performance**"
   ]
  },
  {
   "cell_type": "markdown",
   "metadata": {},
   "source": [
    "## Imports"
   ]
  },
  {
   "cell_type": "code",
   "execution_count": 1,
   "metadata": {},
   "outputs": [],
   "source": [
    "from FPSim2 import run_in_memory_search, run_search\n",
    "from FPSim2.io import load_query, load_fps\n",
    "import tables as tb"
   ]
  },
  {
   "cell_type": "markdown",
   "metadata": {},
   "source": [
    "## Show FP file parameters"
   ]
  },
  {
   "cell_type": "code",
   "execution_count": 2,
   "metadata": {},
   "outputs": [
    {
     "name": "stdout",
     "output_type": "stream",
     "text": [
      "FP type:  Morgan\n",
      "FP parameters:  {'radius': 2, 'nBits': 2048, 'useFeatures': False, 'useChirality': False, 'useBondTypes': True}\n",
      "RDKit version:  2018.03.4\n"
     ]
    }
   ],
   "source": [
    "fp_filename = 'chembl_24.h5'\n",
    "\n",
    "with tb.open_file(fp_filename, mode='r') as fp_file:\n",
    "    config = fp_file.root.config\n",
    "    print('FP type: ', config[0])\n",
    "    print('FP parameters: ', config[1])\n",
    "    print('RDKit version: ', config[2])"
   ]
  },
  {
   "cell_type": "markdown",
   "metadata": {},
   "source": [
    "## Load a query molecule"
   ]
  },
  {
   "cell_type": "code",
   "execution_count": 3,
   "metadata": {},
   "outputs": [
    {
     "name": "stdout",
     "output_type": "stream",
     "text": [
      "Warning, FPS were created with RDKit 2018.03.4, using 2018.09.1\n"
     ]
    }
   ],
   "source": [
    "aspirin = 'CC(=O)Oc1ccccc1C(=O)O'\n",
    "\n",
    "# uses regexes to distinguish between SMILES and InChi. Anything else is considered a CTAB\n",
    "query = load_query(aspirin, fp_filename)"
   ]
  },
  {
   "cell_type": "markdown",
   "metadata": {},
   "source": [
    "## Load fps into memory\n"
   ]
  },
  {
   "cell_type": "code",
   "execution_count": 4,
   "metadata": {},
   "outputs": [
    {
     "name": "stdout",
     "output_type": "stream",
     "text": [
      "CPU times: user 1.63 s, sys: 316 ms, total: 1.95 s\n",
      "Wall time: 1.95 s\n"
     ]
    }
   ],
   "source": [
    "%%time\n",
    "fps = load_fps(fp_filename)\n"
   ]
  },
  {
   "cell_type": "markdown",
   "metadata": {},
   "source": [
    "## Run a search"
   ]
  },
  {
   "cell_type": "code",
   "execution_count": 5,
   "metadata": {},
   "outputs": [
    {
     "name": "stdout",
     "output_type": "stream",
     "text": [
      "CPU times: user 12 ms, sys: 0 ns, total: 12 ms\n",
      "Wall time: 10.7 ms\n"
     ]
    }
   ],
   "source": [
    "%%time\n",
    "results = run_in_memory_search(query, fps, threshold=0.7, coeff='tanimoto',  n_threads=1)\n"
   ]
  },
  {
   "cell_type": "markdown",
   "metadata": {},
   "source": [
    "## Results in a nice structured numpy array"
   ]
  },
  {
   "cell_type": "code",
   "execution_count": 6,
   "metadata": {},
   "outputs": [
    {
     "name": "stdout",
     "output_type": "stream",
     "text": [
      "(4,)\n"
     ]
    },
    {
     "data": {
      "text/plain": [
       "array([(   1280, 1.        ), (2096455, 0.8888889 ),\n",
       "       ( 271022, 0.85714287), ( 875057, 0.7       )],\n",
       "      dtype=[('mol_id', '<u8'), ('coeff', '<f4')])"
      ]
     },
     "execution_count": 6,
     "metadata": {},
     "output_type": "execute_result"
    }
   ],
   "source": [
    "print(results.shape)\n",
    "results"
   ]
  },
  {
   "cell_type": "markdown",
   "metadata": {},
   "source": [
    "## On disk search\n",
    "\n",
    "If your dataset doesn't fit in memory or you're dealing with huge datasets, it's still possible to run searches."
   ]
  },
  {
   "cell_type": "code",
   "execution_count": 7,
   "metadata": {},
   "outputs": [
    {
     "name": "stdout",
     "output_type": "stream",
     "text": [
      "Warning, FPS were created with RDKit 2018.03.4, using 2018.09.1\n",
      "CPU times: user 16 ms, sys: 16 ms, total: 32 ms\n",
      "Wall time: 1.11 s\n"
     ]
    }
   ],
   "source": [
    "%%time\n",
    "results = run_search(aspirin, fp_filename, threshold=0.7, coeff='tanimoto', chunk_size=250000, n_processes=2)"
   ]
  },
  {
   "cell_type": "code",
   "execution_count": 8,
   "metadata": {},
   "outputs": [
    {
     "data": {
      "text/plain": [
       "array([(   1280, 1.        ), (2096455, 0.8888889 ),\n",
       "       ( 271022, 0.85714287), ( 875057, 0.7       )],\n",
       "      dtype=[('mol_id', '<u8'), ('coeff', '<f4')])"
      ]
     },
     "execution_count": 8,
     "metadata": {},
     "output_type": "execute_result"
    }
   ],
   "source": [
    "results"
   ]
  }
 ],
 "metadata": {
  "kernelspec": {
   "display_name": "Python 3",
   "language": "python",
   "name": "python3"
  },
  "language_info": {
   "codemirror_mode": {
    "name": "ipython",
    "version": 3
   },
   "file_extension": ".py",
   "mimetype": "text/x-python",
   "name": "python",
   "nbconvert_exporter": "python",
   "pygments_lexer": "ipython3",
   "version": "3.6.7"
  }
 },
 "nbformat": 4,
 "nbformat_minor": 2
}
